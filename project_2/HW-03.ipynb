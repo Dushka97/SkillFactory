{
 "cells": [
  {
   "cell_type": "code",
   "execution_count": 10,
   "metadata": {},
   "outputs": [],
   "source": [
    "import pandas as pd\n",
    "from scipy.stats import shapiro\n",
    "from scipy.stats import normaltest"
   ]
  },
  {
   "cell_type": "code",
   "execution_count": 24,
   "metadata": {},
   "outputs": [],
   "source": [
    "H0 = 'Мы не можем отвергнуть нулевую гипотезу. Распределение нормально'\n",
    "Ha = 'Мы отвергаем нулевую гипотезу. Распределение ненормально'\n",
    "alpha = 0.05"
   ]
  },
  {
   "cell_type": "code",
   "execution_count": 8,
   "metadata": {},
   "outputs": [],
   "source": [
    "petersburg = [0.0974, 0.1352, 0.0817, 0.1016, 0.0968, 0.1064, 0.105]\n",
    "magadan = [0.1033, 0.0915, 0.0781, 0.0685, 0.0677, 0.0697, 0.0764,\n",
    "           0.0689]"
   ]
  },
  {
   "cell_type": "markdown",
   "metadata": {},
   "source": [
    "Так как размеры выборок для разных городом не совпадают, то можно произвести вставку недостающего значения средней величиной размера раковины."
   ]
  },
  {
   "cell_type": "code",
   "execution_count": 14,
   "metadata": {},
   "outputs": [
    {
     "data": {
      "text/plain": [
       "0.1034"
      ]
     },
     "execution_count": 14,
     "metadata": {},
     "output_type": "execute_result"
    }
   ],
   "source": [
    "mean_spb = round(sum(petersburg)/len(petersburg),4)\n",
    "mean_spb"
   ]
  },
  {
   "cell_type": "markdown",
   "metadata": {},
   "source": [
    "Вставляем среднее значение 0.1034 в признак petersburg"
   ]
  },
  {
   "cell_type": "code",
   "execution_count": 23,
   "metadata": {},
   "outputs": [
    {
     "data": {
      "text/html": [
       "<div>\n",
       "<style scoped>\n",
       "    .dataframe tbody tr th:only-of-type {\n",
       "        vertical-align: middle;\n",
       "    }\n",
       "\n",
       "    .dataframe tbody tr th {\n",
       "        vertical-align: top;\n",
       "    }\n",
       "\n",
       "    .dataframe thead th {\n",
       "        text-align: right;\n",
       "    }\n",
       "</style>\n",
       "<table border=\"1\" class=\"dataframe\">\n",
       "  <thead>\n",
       "    <tr style=\"text-align: right;\">\n",
       "      <th></th>\n",
       "      <th>petersburg</th>\n",
       "      <th>magadan</th>\n",
       "    </tr>\n",
       "  </thead>\n",
       "  <tbody>\n",
       "    <tr>\n",
       "      <th>0</th>\n",
       "      <td>0.0974</td>\n",
       "      <td>0.1033</td>\n",
       "    </tr>\n",
       "    <tr>\n",
       "      <th>1</th>\n",
       "      <td>0.1352</td>\n",
       "      <td>0.0915</td>\n",
       "    </tr>\n",
       "    <tr>\n",
       "      <th>2</th>\n",
       "      <td>0.0817</td>\n",
       "      <td>0.0781</td>\n",
       "    </tr>\n",
       "    <tr>\n",
       "      <th>3</th>\n",
       "      <td>0.1016</td>\n",
       "      <td>0.0685</td>\n",
       "    </tr>\n",
       "    <tr>\n",
       "      <th>4</th>\n",
       "      <td>0.0968</td>\n",
       "      <td>0.0677</td>\n",
       "    </tr>\n",
       "  </tbody>\n",
       "</table>\n",
       "</div>"
      ],
      "text/plain": [
       "   petersburg  magadan\n",
       "0      0.0974   0.1033\n",
       "1      0.1352   0.0915\n",
       "2      0.0817   0.0781\n",
       "3      0.1016   0.0685\n",
       "4      0.0968   0.0677"
      ]
     },
     "execution_count": 23,
     "metadata": {},
     "output_type": "execute_result"
    }
   ],
   "source": [
    "petersburg = [0.0974, 0.1352, 0.0817, 0.1016, 0.0968, 0.1064, 0.105, 0.1034]\n",
    "magadan = [0.1033, 0.0915, 0.0781, 0.0685, 0.0677, 0.0697, 0.0764, 0.0689]\n",
    "petersburg = pd.DataFrame(petersburg, columns=['petersburg'])\n",
    "magadan = pd.DataFrame(magadan, columns=['magadan'])\n",
    "data = pd.concat([petersburg, magadan], axis=1)\n",
    "data.head()"
   ]
  },
  {
   "cell_type": "markdown",
   "metadata": {},
   "source": [
    "Оценим данные визуально. Простроим гистограммы распределения значений для каждого города."
   ]
  },
  {
   "cell_type": "code",
   "execution_count": 44,
   "metadata": {},
   "outputs": [
    {
     "data": {
      "text/plain": [
       "array([[<AxesSubplot:title={'center':'petersburg'}>,\n",
       "        <AxesSubplot:title={'center':'magadan'}>]], dtype=object)"
      ]
     },
     "execution_count": 44,
     "metadata": {},
     "output_type": "execute_result"
    },
    {
     "data": {
      "image/png": "[encoded data removed]",
      "text/plain": [
       "<Figure size 432x288 with 2 Axes>"
      ]
     },
     "metadata": {
      "needs_background": "light"
     },
     "output_type": "display_data"
    }
   ],
   "source": [
    "data[['petersburg', 'magadan']].hist(grid=False)"
   ]
  },
  {
   "cell_type": "markdown",
   "metadata": {},
   "source": [
    "Визуально график для размера ракушек из Санкт-Петербурга похож на график Гауссовского распределения, а для города Магадан - нет. "
   ]
  },
  {
   "cell_type": "markdown",
   "metadata": {},
   "source": [
    "Проверяем данные на нормальность с помощью теста Шапиро-Уилка"
   ]
  },
  {
   "cell_type": "code",
   "execution_count": 25,
   "metadata": {},
   "outputs": [
    {
     "name": "stdout",
     "output_type": "stream",
     "text": [
      "p=0.100\n",
      "Мы не можем отвергнуть нулевую гипотезу. Распределение нормально\n"
     ]
    }
   ],
   "source": [
    "_, p =shapiro(data)\n",
    "print('p=%.3f' % p)\n",
    "# интерпритация\n",
    "if p > alpha:\n",
    "    print(H0)\n",
    "else:\n",
    "    print(Ha)"
   ]
  },
  {
   "cell_type": "markdown",
   "metadata": {},
   "source": [
    "Подтвердим полученный результат тестом Д'Агостино. Так как тест является двусторонним, то значение р должно быть менее 0.025, чтобы отвергнуть Н0."
   ]
  },
  {
   "cell_type": "code",
   "execution_count": 27,
   "metadata": {},
   "outputs": [
    {
     "name": "stdout",
     "output_type": "stream",
     "text": [
      "p=0.042\n",
      "Мы не можем отвергнуть нулевую гипотезу. Распределение нормально\n"
     ]
    },
    {
     "name": "stderr",
     "output_type": "stream",
     "text": [
      "/Library/Frameworks/Python.framework/Versions/3.10/lib/python3.10/site-packages/scipy/stats/_stats_py.py:1477: UserWarning: kurtosistest only valid for n>=20 ... continuing anyway, n=8\n",
      "  warnings.warn(\"kurtosistest only valid for n>=20 ... continuing \"\n"
     ]
    }
   ],
   "source": [
    "_, p = normaltest(data)\n",
    "print('p=%.3f' % p[0])\n",
    "# интерпритация\n",
    "if p[0] > alpha/2:\n",
    "    print(H0)\n",
    "else:\n",
    "    print(Ha)"
   ]
  },
  {
   "cell_type": "markdown",
   "metadata": {},
   "source": [
    "Оценим зависимость размера раковина улиток в зависимости от городов. Так как данные нормально распределены, то будем использовать корреляцию Пирсона."
   ]
  },
  {
   "cell_type": "code",
   "execution_count": 32,
   "metadata": {},
   "outputs": [
    {
     "name": "stdout",
     "output_type": "stream",
     "text": [
      "0.2448446105155939 0.5589340792509473\n"
     ]
    }
   ],
   "source": [
    "from scipy.stats import pearsonr\n",
    "corr, p = pearsonr(data.petersburg, data.magadan)\n",
    "print(corr, p)"
   ]
  },
  {
   "cell_type": "markdown",
   "metadata": {},
   "source": [
    "Так как значение р больше alpha, то мы не можем отвергнуть гипотезу, о том, что размер раковин одинаков. Заивисмая переменная (размер раковины) является количественной. Группы из разных совокупностей. Сравним две выборки с помощью независимого T-теста."
   ]
  },
  {
   "cell_type": "code",
   "execution_count": 40,
   "metadata": {},
   "outputs": [],
   "source": [
    "from scipy.stats import ttest_ind\n",
    "def t_test(data):\n",
    "    print('\\n'+'*** Результат независимого Т-теста ***')\n",
    "    test_results = ttest_ind(data.petersburg, data.magadan, equal_var=True)\n",
    "    \n",
    "    p = round(test_results[1], 2)\n",
    "    \n",
    "    if p > alpha:\n",
    "        print(f\"{p} > {alpha}. Мы не можем отвергнуть нулевую гипотезу. Нет разницы между размерами раковины.\")\n",
    "    else:\n",
    "        print(f\"{p} <= {alpha}. Мы отвергаем нулевую гипотезу. Есть разница между размерами раковины.\")"
   ]
  },
  {
   "cell_type": "code",
   "execution_count": 41,
   "metadata": {},
   "outputs": [
    {
     "name": "stdout",
     "output_type": "stream",
     "text": [
      "\n",
      "*** Результат независимого Т-теста ***\n",
      "0.0 <= 0.05. Мы отвергаем нулевую гипотезу. Есть разница между размерами раковины.\n"
     ]
    }
   ],
   "source": [
    "t_test(data)"
   ]
  },
  {
   "cell_type": "markdown",
   "metadata": {},
   "source": [
    "Оцениваем разницу среднего размера раковины для городов."
   ]
  },
  {
   "cell_type": "code",
   "execution_count": 55,
   "metadata": {},
   "outputs": [
    {
     "name": "stdout",
     "output_type": "stream",
     "text": [
      "Среднее значение размера раковины в Санкт-Петербурге составляет - 0.10343749999999999 \n",
      "Для города Магадан - 0.0780125\n",
      "Разница между средними величинами составляет - 0.02542499999999999\n",
      "Разница в размере раковины является статистически значимой\n"
     ]
    }
   ],
   "source": [
    "print('Среднее значение размера раковины в Санкт-Петербурге составляет -', data.petersburg.mean(),\"\\n\"+\"Для города Магадан -\", data.magadan.mean())\n",
    "print('Разница между средними величинами составляет -', data.petersburg.mean() - data.magadan.mean())\n",
    "print('Разница в размере раковины является статистически значимой')"
   ]
  }
 ],
 "metadata": {
  "interpreter": {
   "hash": "aee8b7b246df8f9039afb4144a1f6fd8d2ca17a180786b69acc140d282b71a49"
  },
  "kernelspec": {
   "display_name": "Python 3.10.0 64-bit",
   "language": "python",
   "name": "python3"
  },
  "language_info": {
   "codemirror_mode": {
    "name": "ipython",
    "version": 3
   },
   "file_extension": ".py",
   "mimetype": "text/x-python",
   "name": "python",
   "nbconvert_exporter": "python",
   "pygments_lexer": "ipython3",
   "version": "3.10.0"
  },
  "orig_nbformat": 4
 },
 "nbformat": 4,
 "nbformat_minor": 2
}
